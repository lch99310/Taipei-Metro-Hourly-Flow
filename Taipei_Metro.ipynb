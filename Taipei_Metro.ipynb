{
 "cells": [
  {
   "cell_type": "code",
   "execution_count": 1,
   "id": "4f5d6e1b-1569-4fbb-888d-539f48b9ce08",
   "metadata": {},
   "outputs": [],
   "source": [
    "import pandas as pd\n",
    "import numpy as np\n",
    "import folium\n",
    "\n",
    "import io\n",
    "from PIL import Image\n",
    "from selenium import webdriver\n",
    "import imageio\n",
    "from folium.features import DivIcon\n",
    "from folium.plugins import HeatMap"
   ]
  },
  {
   "cell_type": "markdown",
   "id": "871ca488-8fbc-442b-a6ee-c166a3a80621",
   "metadata": {},
   "source": [
    "# Data Loading and Processing"
   ]
  },
  {
   "cell_type": "code",
   "execution_count": 37,
   "id": "23eebc80-0d59-4a88-897e-afcbda80d0c8",
   "metadata": {},
   "outputs": [],
   "source": [
    "df = pd.read_csv('臺北捷運每日分時各站OD流量統計資料_201905.csv')\n"
   ]
  },
  {
   "cell_type": "code",
   "execution_count": 38,
   "id": "327d490d-a70a-4226-8e96-82849dd186b6",
   "metadata": {},
   "outputs": [],
   "source": [
    "df = df.rename(columns={\"日期\": \"date\", '時段':'time', '進站':'in', '出站':'out', '人次':'count'})"
   ]
  },
  {
   "cell_type": "code",
   "execution_count": 39,
   "id": "03b006ec-5887-4b52-8635-a3c09012b04f",
   "metadata": {},
   "outputs": [
    {
     "name": "stderr",
     "output_type": "stream",
     "text": [
      "/var/folders/59/p50xxbtd4y5f88p88xxyc8bw0000gn/T/ipykernel_2368/2100274649.py:1: FutureWarning: The default value of numeric_only in DataFrameGroupBy.sum is deprecated. In a future version, numeric_only will default to False. Either specify numeric_only or select only columns which should be valid for the function.\n",
      "  df_in = df.groupby(by=['time', 'in']).agg('sum').reset_index()\n",
      "/var/folders/59/p50xxbtd4y5f88p88xxyc8bw0000gn/T/ipykernel_2368/2100274649.py:2: FutureWarning: The default value of numeric_only in DataFrameGroupBy.sum is deprecated. In a future version, numeric_only will default to False. Either specify numeric_only or select only columns which should be valid for the function.\n",
      "  df_out = df.groupby(by=['time', 'out']).agg('sum').reset_index()\n"
     ]
    }
   ],
   "source": [
    "df_in = df.groupby(by=['time', 'in']).agg('sum').reset_index()\n",
    "df_out = df.groupby(by=['time', 'out']).agg('sum').reset_index()"
   ]
  },
  {
   "cell_type": "code",
   "execution_count": 5,
   "id": "50f646e0-0c17-4ae4-8809-ab3fa7c403c7",
   "metadata": {
    "tags": []
   },
   "outputs": [],
   "source": [
    "# df_out.to_csv('taipei_metro_out.csv', encoding='utf_8_sig')\n",
    "# df_in.to_csv('taipei_metro_in.csv', encoding='utf_8_sig')"
   ]
  },
  {
   "cell_type": "code",
   "execution_count": 40,
   "id": "ac72cb34-9ba9-4e7f-942b-543ba2667332",
   "metadata": {},
   "outputs": [],
   "source": [
    "df_inout = pd.merge(df_in, df_out, left_on=['time', 'in'], right_on=['time', 'out'])"
   ]
  },
  {
   "cell_type": "code",
   "execution_count": 41,
   "id": "8145c4d1-2345-415b-8df2-619f3dc3a458",
   "metadata": {},
   "outputs": [
    {
     "data": {
      "text/html": [
       "<div>\n",
       "<style scoped>\n",
       "    .dataframe tbody tr th:only-of-type {\n",
       "        vertical-align: middle;\n",
       "    }\n",
       "\n",
       "    .dataframe tbody tr th {\n",
       "        vertical-align: top;\n",
       "    }\n",
       "\n",
       "    .dataframe thead th {\n",
       "        text-align: right;\n",
       "    }\n",
       "</style>\n",
       "<table border=\"1\" class=\"dataframe\">\n",
       "  <thead>\n",
       "    <tr style=\"text-align: right;\">\n",
       "      <th></th>\n",
       "      <th>time</th>\n",
       "      <th>in</th>\n",
       "      <th>count_in</th>\n",
       "      <th>out</th>\n",
       "      <th>count_out</th>\n",
       "      <th>net</th>\n",
       "    </tr>\n",
       "  </thead>\n",
       "  <tbody>\n",
       "    <tr>\n",
       "      <th>0</th>\n",
       "      <td>0</td>\n",
       "      <td>BL板橋</td>\n",
       "      <td>6725</td>\n",
       "      <td>BL板橋</td>\n",
       "      <td>8308</td>\n",
       "      <td>1583</td>\n",
       "    </tr>\n",
       "    <tr>\n",
       "      <th>1</th>\n",
       "      <td>0</td>\n",
       "      <td>七張</td>\n",
       "      <td>1499</td>\n",
       "      <td>七張</td>\n",
       "      <td>5616</td>\n",
       "      <td>4117</td>\n",
       "    </tr>\n",
       "    <tr>\n",
       "      <th>2</th>\n",
       "      <td>0</td>\n",
       "      <td>三和國中</td>\n",
       "      <td>1172</td>\n",
       "      <td>三和國中</td>\n",
       "      <td>5952</td>\n",
       "      <td>4780</td>\n",
       "    </tr>\n",
       "    <tr>\n",
       "      <th>3</th>\n",
       "      <td>0</td>\n",
       "      <td>三民高中</td>\n",
       "      <td>987</td>\n",
       "      <td>三民高中</td>\n",
       "      <td>5782</td>\n",
       "      <td>4795</td>\n",
       "    </tr>\n",
       "    <tr>\n",
       "      <th>4</th>\n",
       "      <td>0</td>\n",
       "      <td>三重</td>\n",
       "      <td>1626</td>\n",
       "      <td>三重</td>\n",
       "      <td>1921</td>\n",
       "      <td>295</td>\n",
       "    </tr>\n",
       "    <tr>\n",
       "      <th>...</th>\n",
       "      <td>...</td>\n",
       "      <td>...</td>\n",
       "      <td>...</td>\n",
       "      <td>...</td>\n",
       "      <td>...</td>\n",
       "      <td>...</td>\n",
       "    </tr>\n",
       "    <tr>\n",
       "      <th>2263</th>\n",
       "      <td>23</td>\n",
       "      <td>頂埔</td>\n",
       "      <td>1493</td>\n",
       "      <td>頂埔</td>\n",
       "      <td>10986</td>\n",
       "      <td>9493</td>\n",
       "    </tr>\n",
       "    <tr>\n",
       "      <th>2264</th>\n",
       "      <td>23</td>\n",
       "      <td>頂溪</td>\n",
       "      <td>12629</td>\n",
       "      <td>頂溪</td>\n",
       "      <td>35238</td>\n",
       "      <td>22609</td>\n",
       "    </tr>\n",
       "    <tr>\n",
       "      <th>2265</th>\n",
       "      <td>23</td>\n",
       "      <td>頭前庄</td>\n",
       "      <td>1637</td>\n",
       "      <td>頭前庄</td>\n",
       "      <td>3314</td>\n",
       "      <td>1677</td>\n",
       "    </tr>\n",
       "    <tr>\n",
       "      <th>2266</th>\n",
       "      <td>23</td>\n",
       "      <td>麟光</td>\n",
       "      <td>1222</td>\n",
       "      <td>麟光</td>\n",
       "      <td>3889</td>\n",
       "      <td>2667</td>\n",
       "    </tr>\n",
       "    <tr>\n",
       "      <th>2267</th>\n",
       "      <td>23</td>\n",
       "      <td>龍山寺</td>\n",
       "      <td>14828</td>\n",
       "      <td>龍山寺</td>\n",
       "      <td>17539</td>\n",
       "      <td>2711</td>\n",
       "    </tr>\n",
       "  </tbody>\n",
       "</table>\n",
       "<p>2268 rows × 6 columns</p>\n",
       "</div>"
      ],
      "text/plain": [
       "      time    in  count_in   out  count_out    net\n",
       "0        0  BL板橋      6725  BL板橋       8308   1583\n",
       "1        0    七張      1499    七張       5616   4117\n",
       "2        0  三和國中      1172  三和國中       5952   4780\n",
       "3        0  三民高中       987  三民高中       5782   4795\n",
       "4        0    三重      1626    三重       1921    295\n",
       "...    ...   ...       ...   ...        ...    ...\n",
       "2263    23    頂埔      1493    頂埔      10986   9493\n",
       "2264    23    頂溪     12629    頂溪      35238  22609\n",
       "2265    23   頭前庄      1637   頭前庄       3314   1677\n",
       "2266    23    麟光      1222    麟光       3889   2667\n",
       "2267    23   龍山寺     14828   龍山寺      17539   2711\n",
       "\n",
       "[2268 rows x 6 columns]"
      ]
     },
     "execution_count": 41,
     "metadata": {},
     "output_type": "execute_result"
    }
   ],
   "source": [
    "df_inout = df_inout.rename(columns={\"count_x\": \"count_in\", \"count_y\": \"count_out\"})\n",
    "df_inout['net'] = df_inout['count_out'] - df_inout['count_in']\n",
    "df_inout"
   ]
  },
  {
   "cell_type": "code",
   "execution_count": 44,
   "id": "0fca9b31-2fdf-4fc3-b7cc-0d105dfc09f5",
   "metadata": {},
   "outputs": [],
   "source": [
    "df_station = pd.read_csv('Geo-info_Stations.csv')\n",
    "# df_station.to_csv('northern-taiwan.csv', encoding='utf_8_sig')"
   ]
  },
  {
   "cell_type": "code",
   "execution_count": 51,
   "id": "2018e64b-c128-4f51-8449-740d4bbbb1e2",
   "metadata": {},
   "outputs": [],
   "source": [
    "df_station.replace('板橋', 'BL板橋', inplace=True)"
   ]
  },
  {
   "cell_type": "code",
   "execution_count": 53,
   "id": "bd4ead5a-11bb-495f-a136-1430996474ba",
   "metadata": {},
   "outputs": [],
   "source": [
    "df_merge = pd.merge(df_inout, df_station, left_on='in', right_on='station_name_tw', how='left')"
   ]
  },
  {
   "cell_type": "code",
   "execution_count": 54,
   "id": "f9a329a7-d494-441a-a2ec-f108d9726614",
   "metadata": {},
   "outputs": [],
   "source": [
    "df_merge.dropna(inplace=True)"
   ]
  },
  {
   "cell_type": "code",
   "execution_count": 55,
   "id": "45699db8-811f-42de-a522-c4fd6ad9ebd9",
   "metadata": {},
   "outputs": [],
   "source": [
    "df_merge = df_merge.iloc[:, np.r_[:3, 4,5, 14:16]]"
   ]
  },
  {
   "cell_type": "code",
   "execution_count": 56,
   "id": "56706ce7-07e8-404c-b41b-bf049f600599",
   "metadata": {},
   "outputs": [
    {
     "data": {
      "text/html": [
       "<div>\n",
       "<style scoped>\n",
       "    .dataframe tbody tr th:only-of-type {\n",
       "        vertical-align: middle;\n",
       "    }\n",
       "\n",
       "    .dataframe tbody tr th {\n",
       "        vertical-align: top;\n",
       "    }\n",
       "\n",
       "    .dataframe thead th {\n",
       "        text-align: right;\n",
       "    }\n",
       "</style>\n",
       "<table border=\"1\" class=\"dataframe\">\n",
       "  <thead>\n",
       "    <tr style=\"text-align: right;\">\n",
       "      <th></th>\n",
       "      <th>time</th>\n",
       "      <th>count_in</th>\n",
       "      <th>count_out</th>\n",
       "      <th>net</th>\n",
       "      <th>lat</th>\n",
       "      <th>lon</th>\n",
       "    </tr>\n",
       "  </thead>\n",
       "  <tbody>\n",
       "    <tr>\n",
       "      <th>count</th>\n",
       "      <td>2646.000000</td>\n",
       "      <td>2646.000000</td>\n",
       "      <td>2646.000000</td>\n",
       "      <td>2646.000000</td>\n",
       "      <td>2646.000000</td>\n",
       "      <td>2646.000000</td>\n",
       "    </tr>\n",
       "    <tr>\n",
       "      <th>mean</th>\n",
       "      <td>12.714286</td>\n",
       "      <td>35280.333711</td>\n",
       "      <td>35340.534769</td>\n",
       "      <td>60.201058</td>\n",
       "      <td>25.046133</td>\n",
       "      <td>121.522291</td>\n",
       "    </tr>\n",
       "    <tr>\n",
       "      <th>std</th>\n",
       "      <td>6.548813</td>\n",
       "      <td>48865.562784</td>\n",
       "      <td>49845.319038</td>\n",
       "      <td>29342.108027</td>\n",
       "      <td>0.041428</td>\n",
       "      <td>0.044695</td>\n",
       "    </tr>\n",
       "    <tr>\n",
       "      <th>min</th>\n",
       "      <td>0.000000</td>\n",
       "      <td>0.000000</td>\n",
       "      <td>0.000000</td>\n",
       "      <td>-185262.000000</td>\n",
       "      <td>24.957855</td>\n",
       "      <td>121.411270</td>\n",
       "    </tr>\n",
       "    <tr>\n",
       "      <th>25%</th>\n",
       "      <td>8.000000</td>\n",
       "      <td>7183.000000</td>\n",
       "      <td>7700.750000</td>\n",
       "      <td>-6881.250000</td>\n",
       "      <td>25.023777</td>\n",
       "      <td>121.498633</td>\n",
       "    </tr>\n",
       "    <tr>\n",
       "      <th>50%</th>\n",
       "      <td>13.000000</td>\n",
       "      <td>20907.000000</td>\n",
       "      <td>20915.000000</td>\n",
       "      <td>0.000000</td>\n",
       "      <td>25.042356</td>\n",
       "      <td>121.523041</td>\n",
       "    </tr>\n",
       "    <tr>\n",
       "      <th>75%</th>\n",
       "      <td>18.000000</td>\n",
       "      <td>44033.000000</td>\n",
       "      <td>45206.750000</td>\n",
       "      <td>7163.500000</td>\n",
       "      <td>25.063000</td>\n",
       "      <td>121.551098</td>\n",
       "    </tr>\n",
       "    <tr>\n",
       "      <th>max</th>\n",
       "      <td>23.000000</td>\n",
       "      <td>455872.000000</td>\n",
       "      <td>513015.000000</td>\n",
       "      <td>264336.000000</td>\n",
       "      <td>25.167818</td>\n",
       "      <td>121.617500</td>\n",
       "    </tr>\n",
       "  </tbody>\n",
       "</table>\n",
       "</div>"
      ],
      "text/plain": [
       "              time       count_in      count_out            net          lat  \\\n",
       "count  2646.000000    2646.000000    2646.000000    2646.000000  2646.000000   \n",
       "mean     12.714286   35280.333711   35340.534769      60.201058    25.046133   \n",
       "std       6.548813   48865.562784   49845.319038   29342.108027     0.041428   \n",
       "min       0.000000       0.000000       0.000000 -185262.000000    24.957855   \n",
       "25%       8.000000    7183.000000    7700.750000   -6881.250000    25.023777   \n",
       "50%      13.000000   20907.000000   20915.000000       0.000000    25.042356   \n",
       "75%      18.000000   44033.000000   45206.750000    7163.500000    25.063000   \n",
       "max      23.000000  455872.000000  513015.000000  264336.000000    25.167818   \n",
       "\n",
       "               lon  \n",
       "count  2646.000000  \n",
       "mean    121.522291  \n",
       "std       0.044695  \n",
       "min     121.411270  \n",
       "25%     121.498633  \n",
       "50%     121.523041  \n",
       "75%     121.551098  \n",
       "max     121.617500  "
      ]
     },
     "execution_count": 56,
     "metadata": {},
     "output_type": "execute_result"
    }
   ],
   "source": [
    "df_merge.describe()"
   ]
  },
  {
   "cell_type": "code",
   "execution_count": 13,
   "id": "30c7971f-b71b-4356-8534-b5167c630ee8",
   "metadata": {},
   "outputs": [],
   "source": [
    "# biggest = df_merge.select_dtypes(include=[np.number]).max().max()"
   ]
  },
  {
   "cell_type": "markdown",
   "id": "40229624-e695-4984-8e20-76fef67b7b78",
   "metadata": {},
   "source": [
    "# Plotting - Heatmap\n",
    "\n"
   ]
  },
  {
   "cell_type": "code",
   "execution_count": 57,
   "id": "8ebb5de5-de8c-403f-8199-199bf1a35915",
   "metadata": {},
   "outputs": [],
   "source": [
    "\n",
    "def make_heatmap(df, time):\n",
    "    df_zoom = df[df.time == time]\n",
    "\n",
    "    latitude = 25.041629\n",
    "    longitude = 121.543767\n",
    "\n",
    "    # Create map and display it\n",
    "    taipei_map = folium.Map(location=[latitude, longitude], zoom_start=12, tiles='cartodbpositron')\n",
    "    \n",
    "    data_net = list(map(list, zip(df_zoom['lat'], df_zoom['lon'], df_zoom['net'])))\n",
    "\n",
    "    # gradient={.3: 'gray', .5: 'lime', 1: 'red'}\n",
    "\n",
    "    HeatMap(data_net).add_to(taipei_map)\n",
    "\n",
    "    folium.map.Marker(\n",
    "        [25.107940, 121.582397],\n",
    "        icon=DivIcon(\n",
    "        icon_size=(250,36),\n",
    "        icon_anchor=(0,0),\n",
    "        html=f'<div style=\"font-size: 20pt\">{time}:00</div>',\n",
    "        )).add_to(taipei_map)\n",
    "\n",
    "    taipei_map\n",
    "\n",
    "    img_data = taipei_map._to_png(3)\n",
    "    img = Image.open(io.BytesIO(img_data))\n",
    "    img.save(f'{time}.png')"
   ]
  },
  {
   "cell_type": "code",
   "execution_count": 58,
   "id": "93689781-036e-4644-97db-8467c0098850",
   "metadata": {},
   "outputs": [],
   "source": [
    "for i in df_merge.time.unique():\n",
    "    make_heatmap(df_merge, i)\n",
    "\n"
   ]
  },
  {
   "cell_type": "markdown",
   "id": "2c26dc4f-e103-402b-bef5-eb2bf91e3319",
   "metadata": {},
   "source": [
    "# Plotting - Circle color map"
   ]
  },
  {
   "cell_type": "code",
   "execution_count": 91,
   "id": "eb6afaa3-3657-4edc-a502-0dcf38f10015",
   "metadata": {},
   "outputs": [],
   "source": [
    "def make_ccmap(df, time):\n",
    "    df_zoom = df[df.time == time]\n",
    "    \n",
    "    df_merge['color'] = ['red' if x >= 0 else 'green' for x in df_merge['net']]\n",
    "\n",
    "    latitude = 25.041629\n",
    "    longitude = 121.543767\n",
    "\n",
    "    # Create map and display it\n",
    "    taipei_map = folium.Map(location=[latitude, longitude], zoom_start=12, tiles='cartodbpositron')\n",
    "    \n",
    "    for name,row in df_zoom.iterrows():\n",
    "        radius = row['net']/100\n",
    "        folium.Circle(location=(row['lat'], row['lon']), \n",
    "                    radius= radius, \n",
    "                     color=row['color'], \n",
    "                     fill=True, \n",
    "                     fill_opacity=0.1)\\\n",
    "        .add_to(taipei_map) \n",
    "\n",
    "    folium.map.Marker(\n",
    "        [25.107940, 121.582397],\n",
    "        icon=DivIcon(\n",
    "        icon_size=(250,36),\n",
    "        icon_anchor=(0,0),\n",
    "        html=f'<div style=\"font-size: 20pt\">{time}:00</div>',\n",
    "        )).add_to(taipei_map)\n",
    "    folium.map.Marker(\n",
    "        [25.117161, 121.581152],\n",
    "        icon=DivIcon(\n",
    "        icon_size=(250,36),\n",
    "        icon_anchor=(0,0),\n",
    "        html=f'<div style=\"font-size: 20pt\">Taipei Metro</div>',\n",
    "        )).add_to(taipei_map)\n",
    "    folium.map.Marker(\n",
    "        [25.106303, 121.396567],\n",
    "        icon=DivIcon(\n",
    "        icon_size=(250,36),\n",
    "        icon_anchor=(0,0),\n",
    "        html=f'<div style=\"font-size: 12pt; color:red\">Red: Net Inflow</div>',\n",
    "        )).add_to(taipei_map)\n",
    "    folium.map.Marker(\n",
    "        [25.086409, 121.396567],\n",
    "        icon=DivIcon(\n",
    "        icon_size=(250,36),\n",
    "        icon_anchor=(0,0),\n",
    "        html=f'<div style=\"font-size: 12pt; color:green\">Green: Net Outflow</div>',\n",
    "        )).add_to(taipei_map)\n",
    "    folium.map.Marker(\n",
    "        [24.971658, 121.582397],\n",
    "        icon=DivIcon(\n",
    "        icon_size=(250,36),\n",
    "        icon_anchor=(0,0),\n",
    "        html=f'<div style=\"font-size: 12pt\">Credit: Chung-Hao Lee</div>',\n",
    "        )).add_to(taipei_map)\n",
    "\n",
    "    taipei_map\n",
    "\n",
    "    img_data = taipei_map._to_png(3)\n",
    "    img = Image.open(io.BytesIO(img_data))\n",
    "    img.save(f'{time}.png')"
   ]
  },
  {
   "cell_type": "code",
   "execution_count": 92,
   "id": "3f524f86-f353-4cda-8204-3e753bcd2f37",
   "metadata": {},
   "outputs": [],
   "source": [
    "for i in df_merge.time.unique():\n",
    "    make_ccmap(df_merge, i)"
   ]
  },
  {
   "cell_type": "markdown",
   "id": "8f677e3a-aeb0-4364-afda-06fc2ee451bd",
   "metadata": {},
   "source": [
    "# Visualization GIF"
   ]
  },
  {
   "cell_type": "code",
   "execution_count": 93,
   "id": "eaca1f53-df2b-4c95-99c3-bf62f8364dbe",
   "metadata": {},
   "outputs": [
    {
     "name": "stderr",
     "output_type": "stream",
     "text": [
      "/var/folders/59/p50xxbtd4y5f88p88xxyc8bw0000gn/T/ipykernel_2368/1758974825.py:3: DeprecationWarning: Starting with ImageIO v3 the behavior of this function will switch to that of iio.v3.imread. To keep the current behavior (and make this warning disappear) use `import imageio.v2 as imageio` or call `imageio.v2.imread` directly.\n",
      "  writer.append_data(imageio.imread(f'{i}.png'))\n"
     ]
    }
   ],
   "source": [
    "\n",
    "with imageio.get_writer(uri='taipei_metro.gif', mode='I', fps=1.5) as writer:\n",
    "    for i in df_merge.time.unique():\n",
    "        writer.append_data(imageio.imread(f'{i}.png'))"
   ]
  }
 ],
 "metadata": {
  "kernelspec": {
   "display_name": "Python 3 (ipykernel)",
   "language": "python",
   "name": "python3"
  },
  "language_info": {
   "codemirror_mode": {
    "name": "ipython",
    "version": 3
   },
   "file_extension": ".py",
   "mimetype": "text/x-python",
   "name": "python",
   "nbconvert_exporter": "python",
   "pygments_lexer": "ipython3",
   "version": "3.10.8"
  }
 },
 "nbformat": 4,
 "nbformat_minor": 5
}
